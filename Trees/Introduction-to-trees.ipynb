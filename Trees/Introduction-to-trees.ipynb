{
 "cells": [
  {
   "cell_type": "markdown",
   "metadata": {},
   "source": [
    "<h3>Trees In Python</h3>"
   ]
  },
  {
   "cell_type": "code",
   "execution_count": 4,
   "metadata": {},
   "outputs": [],
   "source": [
    "# Implementing a tree in Python\n",
    "\n",
    "class TreeNode:\n",
    "    def __init__(self, value):\n",
    "        self.value = value\n",
    "        self.left = None\n",
    "        self.right = None"
   ]
  },
  {
   "cell_type": "code",
   "execution_count": 5,
   "metadata": {},
   "outputs": [],
   "source": [
    "root = TreeNode(20)\n",
    "root.left = TreeNode(10)\n",
    "root.right = TreeNode(4)\n",
    "root.left.left = TreeNode(1)\n",
    "root.left.right = TreeNode(12)\n",
    "root.right.left = TreeNode(5)\n",
    "root.right.right = TreeNode(3)\n",
    "# Tree Constructed : \n",
    "#       20\n",
    "#     /     \\\n",
    "#   10       4\n",
    "#  /  \\     / \\\n",
    "# 1   12   5   3"
   ]
  },
  {
   "cell_type": "markdown",
   "metadata": {},
   "source": [
    "<h3>Traversing a Tree using Recursions </h3>"
   ]
  },
  {
   "cell_type": "code",
   "execution_count": 15,
   "metadata": {},
   "outputs": [
    {
     "name": "stdout",
     "output_type": "stream",
     "text": [
      "\n",
      "\n",
      "Preorder Tree Traversal:\n",
      "20 10 1 12 4 5 3 \n",
      "\n",
      "Inorder Tree Traversal:\n",
      "1 10 12 20 5 4 3 \n",
      "\n",
      "Postorder Tree Traversal:\n",
      "1 12 10 5 3 4 20 "
     ]
    }
   ],
   "source": [
    "#Preorder Traversal\n",
    "def preorder (node):\n",
    "    if node : \n",
    "        print(node.value, end=\" \")\n",
    "        preorder(node.left)\n",
    "        preorder(node.right)\n",
    "    return\n",
    "\n",
    "#Inorder Traversal\n",
    "def inorder (node):\n",
    "    if node : \n",
    "        inorder(node.left)\n",
    "        print(node.value, end=\" \")\n",
    "        inorder(node.right)\n",
    "    return\n",
    "\n",
    "#Postorder Traversal\n",
    "def postorder (node):\n",
    "    if node : \n",
    "        postorder(node.left)\n",
    "        postorder(node.right)\n",
    "        print(node.value, end=\" \")\n",
    "    return\n",
    "\n",
    "print(\"\\n\\nPreorder Tree Traversal:\")\n",
    "preorder(root)\n",
    "print(\"\\n\\nInorder Tree Traversal:\")\n",
    "inorder(root)\n",
    "print(\"\\n\\nPostorder Tree Traversal:\")\n",
    "postorder(root)"
   ]
  },
  {
   "cell_type": "markdown",
   "metadata": {
    "vscode": {
     "languageId": "html"
    }
   },
   "source": [
    "<h3>Traversing a Tree using Iterative Method</h3>\n",
    "Iteration is preferable when time complexity is critical and the number of recursive calls would be large. Each recursive call will create a new stack, and would be more complex space and limiting to 1000 recursive calls at max. A better way would be to maintain your own stack"
   ]
  },
  {
   "cell_type": "markdown",
   "metadata": {},
   "source": []
  },
  {
   "cell_type": "code",
   "execution_count": null,
   "metadata": {
    "vscode": {
     "languageId": "html"
    }
   },
   "outputs": [],
   "source": []
  }
 ],
 "metadata": {
  "kernelspec": {
   "display_name": "base",
   "language": "python",
   "name": "python3"
  },
  "language_info": {
   "codemirror_mode": {
    "name": "ipython",
    "version": 3
   },
   "file_extension": ".py",
   "mimetype": "text/x-python",
   "name": "python",
   "nbconvert_exporter": "python",
   "pygments_lexer": "ipython3",
   "version": "3.11.5"
  }
 },
 "nbformat": 4,
 "nbformat_minor": 2
}
